{
 "cells": [
  {
   "cell_type": "markdown",
   "metadata": {},
   "source": [
    "### Problem\n",
    "\n",
    "**Main goal**: Improving outputs from LLMs\n",
    "\n",
    "Two concepts as baseline:\n",
    "1. Few shot learning = Give a few examples in the prompt of what it should look like.\n",
    "2. Arithemtic reasoning = Spell out the logic of thinking of how to solve the problem. \n",
    "\n",
    "\n",
    "\n",
    "### Solution\n",
    "- **CoT**: Combines the two of showing some examples of the thought process. \n",
    "\n",
    "### How can it be applied to my current work/reserach\n",
    "- Give hand holding to the LLM by giving it examples of both reasoning and examples of how it would look in different scenarios.\n"
   ]
  },
  {
   "cell_type": "markdown",
   "metadata": {},
   "source": [
    "____\n",
    "\n",
    "## Experiments"
   ]
  },
  {
   "cell_type": "code",
   "execution_count": null,
   "metadata": {},
   "outputs": [],
   "source": []
  },
  {
   "cell_type": "code",
   "execution_count": null,
   "metadata": {},
   "outputs": [],
   "source": []
  },
  {
   "cell_type": "code",
   "execution_count": null,
   "metadata": {},
   "outputs": [],
   "source": []
  }
 ],
 "metadata": {
  "kernelspec": {
   "display_name": "Python 3 (ipykernel)",
   "language": "python",
   "name": "python3"
  },
  "language_info": {
   "codemirror_mode": {
    "name": "ipython",
    "version": 3
   },
   "file_extension": ".py",
   "mimetype": "text/x-python",
   "name": "python",
   "nbconvert_exporter": "python",
   "pygments_lexer": "ipython3",
   "version": "3.11.0"
  }
 },
 "nbformat": 4,
 "nbformat_minor": 4
}
